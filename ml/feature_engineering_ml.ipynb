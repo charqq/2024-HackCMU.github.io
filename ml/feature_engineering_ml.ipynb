{
 "cells": [
  {
   "cell_type": "markdown",
   "metadata": {},
   "source": [
    "## Process Files"
   ]
  },
  {
   "cell_type": "code",
   "execution_count": 28,
   "metadata": {},
   "outputs": [
    {
     "data": {
      "text/html": [
       "<div>\n",
       "<style scoped>\n",
       "    .dataframe tbody tr th:only-of-type {\n",
       "        vertical-align: middle;\n",
       "    }\n",
       "\n",
       "    .dataframe tbody tr th {\n",
       "        vertical-align: top;\n",
       "    }\n",
       "\n",
       "    .dataframe thead th {\n",
       "        text-align: right;\n",
       "    }\n",
       "</style>\n",
       "<table border=\"1\" class=\"dataframe\">\n",
       "  <thead>\n",
       "    <tr style=\"text-align: right;\">\n",
       "      <th></th>\n",
       "      <th>Unnamed: 0</th>\n",
       "      <th>Unnamed: 0.1</th>\n",
       "      <th>Category</th>\n",
       "      <th>Resume</th>\n",
       "      <th>cleaned_resume</th>\n",
       "      <th>tok_clean_content</th>\n",
       "      <th>nostop_clean_content</th>\n",
       "      <th>cleaned_nostop_text</th>\n",
       "    </tr>\n",
       "  </thead>\n",
       "  <tbody>\n",
       "    <tr>\n",
       "      <th>0</th>\n",
       "      <td>0</td>\n",
       "      <td>0</td>\n",
       "      <td>Data Science</td>\n",
       "      <td>Skills * Programming Languages: Python (pandas...</td>\n",
       "      <td>Skills   Programming Languages  Python  pandas...</td>\n",
       "      <td>['skills', 'programming', 'languages', 'python...</td>\n",
       "      <td>['skills', 'programming', 'languages', 'python...</td>\n",
       "      <td>skills programming languages python pandas num...</td>\n",
       "    </tr>\n",
       "    <tr>\n",
       "      <th>1</th>\n",
       "      <td>1</td>\n",
       "      <td>1</td>\n",
       "      <td>Data Science</td>\n",
       "      <td>Education Details \\r\\nMay 2013 to May 2017 B.E...</td>\n",
       "      <td>Education Details   May 2013 to May 2017 B E  ...</td>\n",
       "      <td>['education', 'details', 'may', '2013', 'to', ...</td>\n",
       "      <td>['education', 'details', 'may', '2013', 'may',...</td>\n",
       "      <td>education details may 2013 may 2017 b e uit rg...</td>\n",
       "    </tr>\n",
       "    <tr>\n",
       "      <th>2</th>\n",
       "      <td>2</td>\n",
       "      <td>2</td>\n",
       "      <td>Data Science</td>\n",
       "      <td>Areas of Interest Deep Learning, Control Syste...</td>\n",
       "      <td>Areas of Interest Deep Learning  Control Syste...</td>\n",
       "      <td>['areas', 'of', 'interest', 'deep', 'learning'...</td>\n",
       "      <td>['areas', 'interest', 'deep', 'learning', 'con...</td>\n",
       "      <td>areas interest deep learning control system de...</td>\n",
       "    </tr>\n",
       "    <tr>\n",
       "      <th>3</th>\n",
       "      <td>3</td>\n",
       "      <td>3</td>\n",
       "      <td>Data Science</td>\n",
       "      <td>Skills â¢ R â¢ Python â¢ SAP HANA â¢ Table...</td>\n",
       "      <td>Skills     R     Python     SAP HANA     Table...</td>\n",
       "      <td>['skills', 'r', 'python', 'sap', 'hana', 'tabl...</td>\n",
       "      <td>['skills', 'r', 'python', 'sap', 'hana', 'tabl...</td>\n",
       "      <td>skills r python sap hana tableau sap hana sql ...</td>\n",
       "    </tr>\n",
       "    <tr>\n",
       "      <th>4</th>\n",
       "      <td>4</td>\n",
       "      <td>4</td>\n",
       "      <td>Data Science</td>\n",
       "      <td>Education Details \\r\\n MCA   YMCAUST,  Faridab...</td>\n",
       "      <td>Education Details    MCA   YMCAUST   Faridabad...</td>\n",
       "      <td>['education', 'details', 'mca', 'ymcaust', 'fa...</td>\n",
       "      <td>['education', 'details', 'mca', 'ymcaust', 'fa...</td>\n",
       "      <td>education details mca ymcaust faridabad haryan...</td>\n",
       "    </tr>\n",
       "  </tbody>\n",
       "</table>\n",
       "</div>"
      ],
      "text/plain": [
       "   Unnamed: 0  Unnamed: 0.1      Category  \\\n",
       "0           0             0  Data Science   \n",
       "1           1             1  Data Science   \n",
       "2           2             2  Data Science   \n",
       "3           3             3  Data Science   \n",
       "4           4             4  Data Science   \n",
       "\n",
       "                                              Resume  \\\n",
       "0  Skills * Programming Languages: Python (pandas...   \n",
       "1  Education Details \\r\\nMay 2013 to May 2017 B.E...   \n",
       "2  Areas of Interest Deep Learning, Control Syste...   \n",
       "3  Skills â¢ R â¢ Python â¢ SAP HANA â¢ Table...   \n",
       "4  Education Details \\r\\n MCA   YMCAUST,  Faridab...   \n",
       "\n",
       "                                      cleaned_resume  \\\n",
       "0  Skills   Programming Languages  Python  pandas...   \n",
       "1  Education Details   May 2013 to May 2017 B E  ...   \n",
       "2  Areas of Interest Deep Learning  Control Syste...   \n",
       "3  Skills     R     Python     SAP HANA     Table...   \n",
       "4  Education Details    MCA   YMCAUST   Faridabad...   \n",
       "\n",
       "                                   tok_clean_content  \\\n",
       "0  ['skills', 'programming', 'languages', 'python...   \n",
       "1  ['education', 'details', 'may', '2013', 'to', ...   \n",
       "2  ['areas', 'of', 'interest', 'deep', 'learning'...   \n",
       "3  ['skills', 'r', 'python', 'sap', 'hana', 'tabl...   \n",
       "4  ['education', 'details', 'mca', 'ymcaust', 'fa...   \n",
       "\n",
       "                                nostop_clean_content  \\\n",
       "0  ['skills', 'programming', 'languages', 'python...   \n",
       "1  ['education', 'details', 'may', '2013', 'may',...   \n",
       "2  ['areas', 'interest', 'deep', 'learning', 'con...   \n",
       "3  ['skills', 'r', 'python', 'sap', 'hana', 'tabl...   \n",
       "4  ['education', 'details', 'mca', 'ymcaust', 'fa...   \n",
       "\n",
       "                                 cleaned_nostop_text  \n",
       "0  skills programming languages python pandas num...  \n",
       "1  education details may 2013 may 2017 b e uit rg...  \n",
       "2  areas interest deep learning control system de...  \n",
       "3  skills r python sap hana tableau sap hana sql ...  \n",
       "4  education details mca ymcaust faridabad haryan...  "
      ]
     },
     "execution_count": 28,
     "metadata": {},
     "output_type": "execute_result"
    }
   ],
   "source": [
    "# import functions\n",
    "import re\n",
    "import pandas as pd\n",
    "import string\n",
    "import numpy as np\n",
    "import nltk\n",
    "from nltk import pos_tag\n",
    "from nltk.tag import StanfordNERTagger\n",
    "from nltk.corpus import stopwords\n",
    "from nltk.tokenize import word_tokenize\n",
    "from sklearn.feature_extraction.text import CountVectorizer\n",
    "from sklearn.decomposition import TruncatedSVD, SparsePCA\n",
    "from sklearn.ensemble import RandomForestClassifier\n",
    "from sklearn.feature_extraction.text import TfidfVectorizer\n",
    "from sklearn.pipeline import Pipeline\n",
    "from sklearn.metrics import classification_report, confusion_matrix\n",
    "from sklearn.model_selection import train_test_split\n",
    "from sklearn import metrics\n",
    "from sklearn.metrics import accuracy_score, confusion_matrix, classification_report\n",
    "from sklearn.model_selection import KFold #for K-fold cross validation\n",
    "from sklearn.model_selection import cross_val_score #score evaluation\n",
    "from sklearn.model_selection import cross_val_predict #prediction\n",
    "from sklearn.model_selection import GridSearchCV # for Hyper parameter tuning\n",
    "\n",
    "df = pd.read_csv('/Users/jojoli/Documents/CMU/F24/Activities/HackCMU2024/Resume_Screening_nostop.csv')\n",
    "df.head()\n",
    "# print(type(re_featured['adj_tag'][0]))"
   ]
  },
  {
   "cell_type": "code",
   "execution_count": 29,
   "metadata": {},
   "outputs": [],
   "source": [
    "df = df.drop(['Unnamed: 0', 'Unnamed: 0.1'], axis=1)"
   ]
  },
  {
   "cell_type": "markdown",
   "metadata": {},
   "source": [
    "## Feature extraction"
   ]
  },
  {
   "cell_type": "markdown",
   "metadata": {},
   "source": [
    "### Text-based features"
   ]
  },
  {
   "cell_type": "code",
   "execution_count": 30,
   "metadata": {},
   "outputs": [],
   "source": [
    "program_language = ['python', 'program', 'code', 'c', 'c++', 'javascript', 'web', 'r', 'java', 'C#']\n",
    "\n",
    "def count_uniquewords(text):\n",
    "    return len(set(str(text).split()))\n",
    "\n",
    "def count_program(text):\n",
    "    program = [word for word in str(text).split() if word.lower() in program_language]\n",
    "    return len(program)"
   ]
  },
  {
   "cell_type": "code",
   "execution_count": 31,
   "metadata": {},
   "outputs": [
    {
     "data": {
      "text/html": [
       "<div>\n",
       "<style scoped>\n",
       "    .dataframe tbody tr th:only-of-type {\n",
       "        vertical-align: middle;\n",
       "    }\n",
       "\n",
       "    .dataframe tbody tr th {\n",
       "        vertical-align: top;\n",
       "    }\n",
       "\n",
       "    .dataframe thead th {\n",
       "        text-align: right;\n",
       "    }\n",
       "</style>\n",
       "<table border=\"1\" class=\"dataframe\">\n",
       "  <thead>\n",
       "    <tr style=\"text-align: right;\">\n",
       "      <th></th>\n",
       "      <th>Category</th>\n",
       "      <th>Resume</th>\n",
       "      <th>cleaned_resume</th>\n",
       "      <th>tok_clean_content</th>\n",
       "      <th>nostop_clean_content</th>\n",
       "      <th>cleaned_nostop_text</th>\n",
       "      <th>programming_count</th>\n",
       "    </tr>\n",
       "  </thead>\n",
       "  <tbody>\n",
       "    <tr>\n",
       "      <th>0</th>\n",
       "      <td>Data Science</td>\n",
       "      <td>Skills * Programming Languages: Python (pandas...</td>\n",
       "      <td>Skills   Programming Languages  Python  pandas...</td>\n",
       "      <td>['skills', 'programming', 'languages', 'python...</td>\n",
       "      <td>['skills', 'programming', 'languages', 'python...</td>\n",
       "      <td>skills programming languages python pandas num...</td>\n",
       "      <td>11</td>\n",
       "    </tr>\n",
       "    <tr>\n",
       "      <th>1</th>\n",
       "      <td>Data Science</td>\n",
       "      <td>Education Details \\r\\nMay 2013 to May 2017 B.E...</td>\n",
       "      <td>Education Details   May 2013 to May 2017 B E  ...</td>\n",
       "      <td>['education', 'details', 'may', '2013', 'to', ...</td>\n",
       "      <td>['education', 'details', 'may', '2013', 'may',...</td>\n",
       "      <td>education details may 2013 may 2017 b e uit rg...</td>\n",
       "      <td>1</td>\n",
       "    </tr>\n",
       "    <tr>\n",
       "      <th>2</th>\n",
       "      <td>Data Science</td>\n",
       "      <td>Areas of Interest Deep Learning, Control Syste...</td>\n",
       "      <td>Areas of Interest Deep Learning  Control Syste...</td>\n",
       "      <td>['areas', 'of', 'interest', 'deep', 'learning'...</td>\n",
       "      <td>['areas', 'interest', 'deep', 'learning', 'con...</td>\n",
       "      <td>areas interest deep learning control system de...</td>\n",
       "      <td>8</td>\n",
       "    </tr>\n",
       "    <tr>\n",
       "      <th>3</th>\n",
       "      <td>Data Science</td>\n",
       "      <td>Skills â¢ R â¢ Python â¢ SAP HANA â¢ Table...</td>\n",
       "      <td>Skills     R     Python     SAP HANA     Table...</td>\n",
       "      <td>['skills', 'r', 'python', 'sap', 'hana', 'tabl...</td>\n",
       "      <td>['skills', 'r', 'python', 'sap', 'hana', 'tabl...</td>\n",
       "      <td>skills r python sap hana tableau sap hana sql ...</td>\n",
       "      <td>14</td>\n",
       "    </tr>\n",
       "    <tr>\n",
       "      <th>4</th>\n",
       "      <td>Data Science</td>\n",
       "      <td>Education Details \\r\\n MCA   YMCAUST,  Faridab...</td>\n",
       "      <td>Education Details    MCA   YMCAUST   Faridabad...</td>\n",
       "      <td>['education', 'details', 'mca', 'ymcaust', 'fa...</td>\n",
       "      <td>['education', 'details', 'mca', 'ymcaust', 'fa...</td>\n",
       "      <td>education details mca ymcaust faridabad haryan...</td>\n",
       "      <td>3</td>\n",
       "    </tr>\n",
       "  </tbody>\n",
       "</table>\n",
       "</div>"
      ],
      "text/plain": [
       "       Category                                             Resume  \\\n",
       "0  Data Science  Skills * Programming Languages: Python (pandas...   \n",
       "1  Data Science  Education Details \\r\\nMay 2013 to May 2017 B.E...   \n",
       "2  Data Science  Areas of Interest Deep Learning, Control Syste...   \n",
       "3  Data Science  Skills â¢ R â¢ Python â¢ SAP HANA â¢ Table...   \n",
       "4  Data Science  Education Details \\r\\n MCA   YMCAUST,  Faridab...   \n",
       "\n",
       "                                      cleaned_resume  \\\n",
       "0  Skills   Programming Languages  Python  pandas...   \n",
       "1  Education Details   May 2013 to May 2017 B E  ...   \n",
       "2  Areas of Interest Deep Learning  Control Syste...   \n",
       "3  Skills     R     Python     SAP HANA     Table...   \n",
       "4  Education Details    MCA   YMCAUST   Faridabad...   \n",
       "\n",
       "                                   tok_clean_content  \\\n",
       "0  ['skills', 'programming', 'languages', 'python...   \n",
       "1  ['education', 'details', 'may', '2013', 'to', ...   \n",
       "2  ['areas', 'of', 'interest', 'deep', 'learning'...   \n",
       "3  ['skills', 'r', 'python', 'sap', 'hana', 'tabl...   \n",
       "4  ['education', 'details', 'mca', 'ymcaust', 'fa...   \n",
       "\n",
       "                                nostop_clean_content  \\\n",
       "0  ['skills', 'programming', 'languages', 'python...   \n",
       "1  ['education', 'details', 'may', '2013', 'may',...   \n",
       "2  ['areas', 'interest', 'deep', 'learning', 'con...   \n",
       "3  ['skills', 'r', 'python', 'sap', 'hana', 'tabl...   \n",
       "4  ['education', 'details', 'mca', 'ymcaust', 'fa...   \n",
       "\n",
       "                                 cleaned_nostop_text  programming_count  \n",
       "0  skills programming languages python pandas num...                 11  \n",
       "1  education details may 2013 may 2017 b e uit rg...                  1  \n",
       "2  areas interest deep learning control system de...                  8  \n",
       "3  skills r python sap hana tableau sap hana sql ...                 14  \n",
       "4  education details mca ymcaust faridabad haryan...                  3  "
      ]
     },
     "execution_count": 31,
     "metadata": {},
     "output_type": "execute_result"
    }
   ],
   "source": [
    "df['programming_count'] = df['cleaned_nostop_text'].apply(lambda x:count_program(x))\n",
    "\n",
    "df.head(5)"
   ]
  },
  {
   "cell_type": "markdown",
   "metadata": {},
   "source": [
    "## Train Model with Feature Engineering\n",
    "\n",
    "### Sources: Scikit-learn"
   ]
  },
  {
   "cell_type": "code",
   "execution_count": 32,
   "metadata": {},
   "outputs": [
    {
     "name": "stdout",
     "output_type": "stream",
     "text": [
      "(962, 7451)\n"
     ]
    }
   ],
   "source": [
    "# Using TF-IDF\n",
    "vectorizer = TfidfVectorizer()\n",
    "text = vectorizer.fit_transform(df['nostop_clean_content']).toarray()\n",
    "print(text.shape)"
   ]
  },
  {
   "cell_type": "code",
   "execution_count": 34,
   "metadata": {},
   "outputs": [],
   "source": [
    "tfidf = pd.DataFrame(text)\n",
    "targeted = df.Category\n",
    "X_train, X_test, y_train, y_test = train_test_split(tfidf, targeted ,test_size=0.3, random_state=42)"
   ]
  },
  {
   "cell_type": "markdown",
   "metadata": {},
   "source": [
    "### Random Forest"
   ]
  },
  {
   "cell_type": "code",
   "execution_count": 35,
   "metadata": {},
   "outputs": [
    {
     "name": "stdout",
     "output_type": "stream",
     "text": [
      "                           precision    recall  f1-score   support\n",
      "\n",
      "                 Advocate       1.00      1.00      1.00         6\n",
      "                     Arts       1.00      1.00      1.00         8\n",
      "       Automation Testing       1.00      1.00      1.00         7\n",
      "               Blockchain       1.00      1.00      1.00        11\n",
      "         Business Analyst       1.00      1.00      1.00         9\n",
      "           Civil Engineer       1.00      1.00      1.00        11\n",
      "             Data Science       1.00      1.00      1.00        11\n",
      "                 Database       1.00      1.00      1.00         9\n",
      "          DevOps Engineer       0.89      1.00      0.94        17\n",
      "         DotNet Developer       1.00      1.00      1.00        11\n",
      "            ETL Developer       1.00      1.00      1.00         9\n",
      "   Electrical Engineering       1.00      1.00      1.00         9\n",
      "                       HR       1.00      1.00      1.00        17\n",
      "                   Hadoop       1.00      1.00      1.00         9\n",
      "       Health and fitness       1.00      1.00      1.00        10\n",
      "           Java Developer       1.00      0.97      0.98        29\n",
      "      Mechanical Engineer       1.00      1.00      1.00        12\n",
      "Network Security Engineer       1.00      1.00      1.00         4\n",
      "       Operations Manager       1.00      1.00      1.00        16\n",
      "                      PMO       1.00      1.00      1.00         9\n",
      "         Python Developer       1.00      1.00      1.00        14\n",
      "            SAP Developer       1.00      1.00      1.00         9\n",
      "                    Sales       1.00      1.00      1.00        11\n",
      "                  Testing       1.00      0.96      0.98        25\n",
      "            Web Designing       1.00      1.00      1.00         6\n",
      "\n",
      "                 accuracy                           0.99       289\n",
      "                macro avg       1.00      1.00      1.00       289\n",
      "             weighted avg       0.99      0.99      0.99       289\n",
      "\n",
      "--------------The Accuracy of the model----------------------------\n",
      "Accuracy of Random Forest on test set: 0.99307958\n"
     ]
    },
    {
     "data": {
      "text/plain": [
       "Text(0.5, 1.05, 'Confusion_matrix')"
      ]
     },
     "execution_count": 35,
     "metadata": {},
     "output_type": "execute_result"
    },
    {
     "data": {
      "image/png": "[encoded data removed]",
      "text/plain": [
       "<Figure size 432x288 with 2 Axes>"
      ]
     },
     "metadata": {
      "needs_background": "light"
     },
     "output_type": "display_data"
    }
   ],
   "source": [
    "import seaborn as sns\n",
    "import matplotlib.pyplot as plt\n",
    "\n",
    "umodel1 = RandomForestClassifier(criterion='gini', n_estimators=700,\n",
    "                             min_samples_split=10,min_samples_leaf=1,\n",
    "                             max_features='auto',oob_score=True,\n",
    "                             random_state=1,n_jobs=-1)\n",
    "umodel1.fit(X_train, y_train)\n",
    "y_pred_rm1 = umodel1.predict(X_test)\n",
    "print(metrics.classification_report(y_pred_rm1, y_test))\n",
    "print('--------------The Accuracy of the model----------------------------')\n",
    "print('Accuracy of Random Forest on test set: {:.8f}'.format(accuracy_score(y_pred_rm1, y_test)))\n",
    "\n",
    "sns.heatmap(confusion_matrix(y_test,y_pred_rm1),annot=True,fmt='3.0f',cmap=\"summer\")\n",
    "plt.title('Confusion_matrix', y=1.05, size=15)"
   ]
  },
  {
   "cell_type": "code",
   "execution_count": 36,
   "metadata": {},
   "outputs": [],
   "source": [
    "df.to_csv(\"/Users/jojoli/Documents/CMU/F24/Activities/HackCMU2024/Resume_Screening_featured.csv\")"
   ]
  },
  {
   "cell_type": "code",
   "execution_count": null,
   "metadata": {},
   "outputs": [],
   "source": []
  },
  {
   "cell_type": "markdown",
   "metadata": {},
   "source": [
    "## Save model"
   ]
  },
  {
   "cell_type": "code",
   "execution_count": 37,
   "metadata": {},
   "outputs": [
    {
     "name": "stdout",
     "output_type": "stream",
     "text": [
      "                           precision    recall  f1-score   support\n",
      "\n",
      "                 Advocate       1.00      1.00      1.00         6\n",
      "                     Arts       1.00      1.00      1.00         8\n",
      "       Automation Testing       1.00      1.00      1.00         7\n",
      "               Blockchain       1.00      1.00      1.00        11\n",
      "         Business Analyst       1.00      1.00      1.00         9\n",
      "           Civil Engineer       1.00      1.00      1.00        11\n",
      "             Data Science       1.00      1.00      1.00        11\n",
      "                 Database       1.00      1.00      1.00         9\n",
      "          DevOps Engineer       0.89      1.00      0.94        17\n",
      "         DotNet Developer       1.00      1.00      1.00        11\n",
      "            ETL Developer       1.00      1.00      1.00         9\n",
      "   Electrical Engineering       1.00      1.00      1.00         9\n",
      "                       HR       1.00      1.00      1.00        17\n",
      "                   Hadoop       1.00      1.00      1.00         9\n",
      "       Health and fitness       1.00      1.00      1.00        10\n",
      "           Java Developer       1.00      0.97      0.98        29\n",
      "      Mechanical Engineer       1.00      1.00      1.00        12\n",
      "Network Security Engineer       1.00      1.00      1.00         4\n",
      "       Operations Manager       1.00      1.00      1.00        16\n",
      "                      PMO       1.00      1.00      1.00         9\n",
      "         Python Developer       1.00      1.00      1.00        14\n",
      "            SAP Developer       1.00      1.00      1.00         9\n",
      "                    Sales       1.00      1.00      1.00        11\n",
      "                  Testing       1.00      0.96      0.98        25\n",
      "            Web Designing       1.00      1.00      1.00         6\n",
      "\n",
      "                 accuracy                           0.99       289\n",
      "                macro avg       1.00      1.00      1.00       289\n",
      "             weighted avg       0.99      0.99      0.99       289\n",
      "\n",
      "--------------The Accuracy of the model----------------------------\n",
      "Accuracy of Random Forest on test set: 0.99307958\n"
     ]
    },
    {
     "data": {
      "text/plain": [
       "Text(0.5, 1.05, 'Confusion_matrix')"
      ]
     },
     "execution_count": 37,
     "metadata": {},
     "output_type": "execute_result"
    },
    {
     "data": {
      "image/png": "[encoded data removed]",
      "text/plain": [
       "<Figure size 432x288 with 2 Axes>"
      ]
     },
     "metadata": {
      "needs_background": "light"
     },
     "output_type": "display_data"
    }
   ],
   "source": [
    "import pickle\n",
    "import seaborn as sns\n",
    "import matplotlib.pyplot as plt\n",
    "\n",
    "filename = '/Users/jojoli/Documents/CMU/F24/Activities/HackCMU2024/ml_model_RF.sav'\n",
    "pickle.dump(umodel1, open(filename, 'wb'))\n",
    "\n",
    "# load the model\n",
    "load_model = pickle.load(open(filename, 'rb'))\n",
    "\n",
    "y_pred_4 = load_model.predict(X_test)\n",
    "print(metrics.classification_report(y_pred_4, y_test))\n",
    "print('--------------The Accuracy of the model----------------------------')\n",
    "print('Accuracy of Random Forest on test set: {:.8f}'.format(accuracy_score(y_pred_4, y_test)))\n",
    "\n",
    "sns.heatmap(confusion_matrix(y_test,y_pred_4),annot=True,fmt='3.0f',cmap=\"summer\")\n",
    "plt.title('Confusion_matrix', y=1.05, size=15)"
   ]
  },
  {
   "cell_type": "code",
   "execution_count": null,
   "metadata": {},
   "outputs": [],
   "source": []
  }
 ],
 "metadata": {
  "kernelspec": {
   "display_name": "Python 3.8.11 ('base')",
   "language": "python",
   "name": "python3"
  },
  "language_info": {
   "codemirror_mode": {
    "name": "ipython",
    "version": 3
   },
   "file_extension": ".py",
   "mimetype": "text/x-python",
   "name": "python",
   "nbconvert_exporter": "python",
   "pygments_lexer": "ipython3",
   "version": "3.8.11"
  },
  "orig_nbformat": 4,
  "vscode": {
   "interpreter": {
    "hash": "fa6335b93832437a7ad6101cee87dd3e9814daa15b714665e121125b2ec0bb3c"
   }
  }
 },
 "nbformat": 4,
 "nbformat_minor": 2
}
